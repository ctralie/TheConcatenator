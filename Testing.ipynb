{
 "cells": [
  {
   "cell_type": "code",
   "execution_count": null,
   "id": "hydraulic-consortium",
   "metadata": {},
   "outputs": [],
   "source": [
    "%load_ext autoreload\n",
    "%autoreload 2\n",
    "import numpy as np\n",
    "import matplotlib.pyplot as plt\n",
    "import IPython.display as ipd\n",
    "import librosa\n",
    "import librosa.display\n",
    "from scipy import sparse\n",
    "from letitbee import *"
   ]
  },
  {
   "cell_type": "markdown",
   "id": "7d905479",
   "metadata": {},
   "source": [
    "# Let It Bee"
   ]
  },
  {
   "cell_type": "code",
   "execution_count": null,
   "id": "0bb92c5c",
   "metadata": {},
   "outputs": [],
   "source": [
    "win = 2048\n",
    "hop = 1024\n",
    "\n",
    "y1, sr = librosa.load(\"Beatles_LetItBe.mp3\")\n",
    "y2, sr = librosa.load(\"Bees_Buzzing.mp3\")\n",
    "\n",
    "W1 = get_windowed(y1, hop, win)\n",
    "V = np.abs(np.fft.fft(W1, axis=0)[0:win//2+1, :])\n",
    "WSound = get_windowed(y2, hop, win)\n",
    "WAbs = np.abs(np.fft.fft(WSound, axis=0)[0:win//2+1, :])"
   ]
  },
  {
   "cell_type": "code",
   "execution_count": null,
   "id": "660829ae",
   "metadata": {},
   "outputs": [],
   "source": [
    "H = get_musaic_activations(V, WAbs, L=50, r=3, p=10, c=6)\n",
    "y = do_windowed_sum(WSound, H, win, hop)\n",
    "ipd.Audio(y, rate=sr)"
   ]
  },
  {
   "cell_type": "code",
   "execution_count": null,
   "id": "e9a3ec38",
   "metadata": {},
   "outputs": [],
   "source": []
  }
 ],
 "metadata": {
  "kernelspec": {
   "display_name": "Python 3 (ipykernel)",
   "language": "python",
   "name": "python3"
  },
  "language_info": {
   "codemirror_mode": {
    "name": "ipython",
    "version": 3
   },
   "file_extension": ".py",
   "mimetype": "text/x-python",
   "name": "python",
   "nbconvert_exporter": "python",
   "pygments_lexer": "ipython3",
   "version": "3.9.13"
  }
 },
 "nbformat": 4,
 "nbformat_minor": 5
}
