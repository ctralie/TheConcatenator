{
 "cells": [
  {
   "cell_type": "code",
   "execution_count": null,
   "id": "hydraulic-consortium",
   "metadata": {},
   "outputs": [],
   "source": [
    "%load_ext snakeviz\n",
    "%load_ext autoreload\n",
    "%autoreload 2\n",
    "from scipy.io import wavfile\n",
    "import numpy as np\n",
    "import matplotlib.pyplot as plt\n",
    "import IPython.display as ipd\n",
    "import librosa\n",
    "import librosa.display\n",
    "from scipy import sparse\n",
    "from letitbee import *\n",
    "from particle import *\n",
    "from probutils import *\n",
    "import time"
   ]
  },
  {
   "cell_type": "markdown",
   "id": "7d905479",
   "metadata": {},
   "source": [
    "# Let It Bee"
   ]
  },
  {
   "cell_type": "code",
   "execution_count": null,
   "id": "0bb92c5c",
   "metadata": {},
   "outputs": [],
   "source": [
    "win = 2048\n",
    "hop = 1024\n",
    "p = 10\n",
    "\n",
    "y1, sr = librosa.load(\"aha.mp3\")\n",
    "y2, sr = librosa.load(\"theoshift.mp3\")\n",
    "#y1, sr = librosa.load(\"Beatles_LetItBe.mp3\")\n",
    "#y2, sr = librosa.load(\"Bees_Buzzing.mp3\")\n",
    "\n",
    "W1 = get_windowed(y1, hop, win)\n",
    "V = np.abs(np.fft.fft(W1, axis=0)[0:win//2+1, :])\n",
    "WSound = get_windowed(y2, hop, win)\n",
    "W = np.abs(np.fft.fft(WSound, axis=0)[0:win//2+1, :])"
   ]
  },
  {
   "cell_type": "code",
   "execution_count": null,
   "id": "3e90eb39",
   "metadata": {},
   "outputs": [],
   "source": [
    "c = 3 # Diagonal\n",
    "r = 3 # Repeated activation\n",
    "tic = time.time()\n",
    "HGT = get_musaic_activations(V, W, L=50, r=r, p=p, c=c, verbose=False)\n",
    "print(\"Elapsed time ground truth: {:.3f}\".format(time.time()-tic))\n",
    "WH = W.dot(HGT)\n",
    "gt_fit = np.sum(V*np.log(V/WH) - V + WH)\n",
    "y = do_windowed_sum(WSound, HGT, win, hop)\n",
    "ipd.Audio(y, rate=sr)"
   ]
  },
  {
   "cell_type": "code",
   "execution_count": null,
   "id": "660829ae",
   "metadata": {},
   "outputs": [],
   "source": [
    "pd = 0.99\n",
    "sigma = 0.1\n",
    "L = 10\n",
    "P = 2000\n",
    "gamma = 0\n",
    "neff_thresh = 0.1*P\n",
    "tic = time.time()\n",
    "tic = time.time()\n",
    "H, wsmax, neff = get_particle_musaic_activations(V, W, p, pd, sigma, L, P, gamma=gamma, c=c, neff_thresh=neff_thresh, use_gpu=True)\n",
    "print(\"Elapsed time particle filter: {:.3f}\".format(time.time()-tic))\n",
    "\n",
    "a1 = get_activations_diff(HGT, p)\n",
    "a2 = get_activations_diff(H, p)\n",
    "r1 = get_repeated_activation_itervals(HGT, p)\n",
    "r2 = get_repeated_activation_itervals(H, p)\n",
    "\n",
    "WH = W.dot(H)\n",
    "fit = np.sum(V*np.log(V/WH) - V + WH)\n",
    "y = do_windowed_sum(WSound, H, win, hop)\n",
    "ipd.Audio(y, rate=sr)"
   ]
  },
  {
   "cell_type": "code",
   "execution_count": null,
   "id": "cce1dd18",
   "metadata": {},
   "outputs": [],
   "source": [
    "y = y/np.max(y)\n",
    "prefix = \"p{}_pd{}_sigma{}_L{}_c{}_P{}_neff{}\".format(p, pd, sigma, L, c, P, neff_thresh)\n",
    "wavfile.write(\"{}.wav\".format(prefix), sr, y)\n",
    "\n",
    "plt.figure(figsize=(12, 8))\n",
    "plt.subplot(231)\n",
    "plt.plot(a1)\n",
    "plt.plot(a2)\n",
    "plt.legend([\"Ground Truth: Mean {:.3f}\".format(np.mean(a1)),\n",
    "            \"Particle Filter: Mean {:.3f}\".format(np.mean(a2))])\n",
    "plt.title(\"Activation Changes over Time\")\n",
    "plt.xlabel(\"Timestep\")\n",
    "plt.subplot(232)\n",
    "plt.hist(a1, bins=np.arange(p+2), alpha=0.5)\n",
    "plt.hist(a2, bins=np.arange(p+2), alpha=0.5)\n",
    "plt.title(\"Activation Changes Histogram\")\n",
    "plt.xlabel(\"Number of Activations Changed\")\n",
    "plt.ylabel(\"Counts\")\n",
    "plt.legend([\"Ground Truth\", \"Particle Filter\"])\n",
    "plt.subplot(233)\n",
    "plt.hist(r1, bins=np.arange(c*20), alpha=0.5)\n",
    "plt.hist(r2, bins=np.arange(c*20), alpha=0.5)\n",
    "plt.title(\"Repeated Activations Histogram, c={}\".format(c))\n",
    "plt.xlabel(\"Repeated Activation Distance\")\n",
    "plt.ylabel(\"Counts\")\n",
    "plt.legend([\"Ground Truth\", \"Particle Filter\"])\n",
    "plt.subplot(234)\n",
    "plt.plot(wsmax)\n",
    "plt.title(\"Max Probability, Overall Fit: {:.3f}\\nGround Truth Fit: {:.3f}\".format(fit, gt_fit))\n",
    "plt.xlabel(\"Timestep\")\n",
    "plt.subplot(235)\n",
    "plt.plot(neff)\n",
    "plt.xlabel(\"Timestep\")\n",
    "plt.title(\"Number of Effective Particles\")\n",
    "plt.subplot(236)\n",
    "diagsgt = get_diag_lengths(HGT, p)\n",
    "diags = get_diag_lengths(H, p)\n",
    "plt.hist(diagsgt, bins=np.arange(30), alpha=0.5)\n",
    "plt.hist(diags, bins=np.arange(30), alpha=0.5)\n",
    "plt.legend([\"Ground Truth Mean: {:.3f} (c={})\".format(np.mean(diagsgt), c),\n",
    "            \"Particle Filter Mean: {:.3f} ($p_d$={})\".format(np.mean(diags), pd)])\n",
    "plt.xlabel(\"Diagonal Length\")\n",
    "plt.ylabel(\"Counts\")\n",
    "plt.title(\"Diagonal Lengths\")\n",
    "plt.tight_layout()\n",
    "plt.savefig(\"{}.svg\".format(prefix), bbox_inches='tight')\n",
    "\n",
    "\n"
   ]
  }
 ],
 "metadata": {
  "kernelspec": {
   "display_name": "Python 3 (ipykernel)",
   "language": "python",
   "name": "python3"
  },
  "language_info": {
   "codemirror_mode": {
    "name": "ipython",
    "version": 3
   },
   "file_extension": ".py",
   "mimetype": "text/x-python",
   "name": "python",
   "nbconvert_exporter": "python",
   "pygments_lexer": "ipython3",
   "version": "3.10.9"
  }
 },
 "nbformat": 4,
 "nbformat_minor": 5
}
