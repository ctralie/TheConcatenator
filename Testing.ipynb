{
 "cells": [
  {
   "cell_type": "code",
   "execution_count": null,
   "id": "hydraulic-consortium",
   "metadata": {},
   "outputs": [],
   "source": [
    "%load_ext autoreload\n",
    "%autoreload 2\n",
    "from scipy.io import wavfile\n",
    "import numpy as np\n",
    "import matplotlib.pyplot as plt\n",
    "import IPython.display as ipd\n",
    "import librosa\n",
    "import librosa.display\n",
    "from scipy import sparse\n",
    "from letitbee import *\n",
    "from particle import *"
   ]
  },
  {
   "cell_type": "markdown",
   "id": "7d905479",
   "metadata": {},
   "source": [
    "# Let It Bee"
   ]
  },
  {
   "cell_type": "code",
   "execution_count": null,
   "id": "0bb92c5c",
   "metadata": {},
   "outputs": [],
   "source": [
    "win = 2048\n",
    "hop = 1024\n",
    "\n",
    "y1, sr = librosa.load(\"Beatles_LetItBe.mp3\")\n",
    "y2, sr = librosa.load(\"Bees_Buzzing.mp3\")\n",
    "\n",
    "W1 = get_windowed(y1, hop, win)\n",
    "V = np.abs(np.fft.fft(W1, axis=0)[0:win//2+1, :])\n",
    "WSound = get_windowed(y2, hop, win)\n",
    "W = np.abs(np.fft.fft(WSound, axis=0)[0:win//2+1, :])"
   ]
  },
  {
   "cell_type": "code",
   "execution_count": null,
   "id": "59bcad74",
   "metadata": {},
   "outputs": [],
   "source": [
    "\"\"\"\n",
    "H = get_musaic_activations(V, W, L=50, r=3, p=10, c=3, verbose=False)\n",
    "WH = W.dot(H)\n",
    "print(np.sum(V*np.log(V/WH) - V + WH))\n",
    "y = do_windowed_sum(WSound, H, win, hop)\n",
    "ipd.Audio(y, rate=sr)\n",
    "\"\"\""
   ]
  },
  {
   "cell_type": "code",
   "execution_count": null,
   "id": "660829ae",
   "metadata": {},
   "outputs": [],
   "source": [
    "p = 7\n",
    "pd = 0.95\n",
    "sigma = 1\n",
    "L = 10\n",
    "P = 1000\n",
    "H, idxmax, wsmax = get_particle_musaic_activations(V, W, p, pd, sigma, L, P)\n",
    "WH = W.dot(H)\n",
    "fit = np.sum(V*np.log(V/WH) - V + WH)\n",
    "y = do_windowed_sum(WSound, H, win, hop)\n",
    "\n",
    "\n",
    "prefix = \"p{}_pd{}_sigma{}_L{}_P{}\".format(p, pd, sigma, L, P)\n",
    "wavfile.write(\"{}.wav\".format(prefix), sr, y)\n",
    "\n",
    "plt.figure(figsize=(12, 4))\n",
    "plt.subplot(121)\n",
    "plt.plot(idxmax)\n",
    "plt.xlabel(\"Timestep\")\n",
    "plt.title(\"Max Index\")\n",
    "plt.subplot(122)\n",
    "plt.plot(wsmax)\n",
    "plt.title(\"Max Probability, Overall Fit: {:.3f}\".format(fit))\n",
    "plt.xlabel(\"Timestep\")\n",
    "plt.savefig(\"{}.svg\".format(prefix), bbox_inches='tight')\n",
    "\n",
    "\n",
    "ipd.Audio(y, rate=sr)"
   ]
  },
  {
   "cell_type": "code",
   "execution_count": null,
   "id": "5cc7e0d4",
   "metadata": {},
   "outputs": [],
   "source": []
  }
 ],
 "metadata": {
  "kernelspec": {
   "display_name": "Python 3 (ipykernel)",
   "language": "python",
   "name": "python3"
  },
  "language_info": {
   "codemirror_mode": {
    "name": "ipython",
    "version": 3
   },
   "file_extension": ".py",
   "mimetype": "text/x-python",
   "name": "python",
   "nbconvert_exporter": "python",
   "pygments_lexer": "ipython3",
   "version": "3.10.9"
  }
 },
 "nbformat": 4,
 "nbformat_minor": 5
}
